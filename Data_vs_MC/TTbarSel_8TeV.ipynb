{
 "cells": [
  {
   "cell_type": "markdown",
   "metadata": {
    "id": "MwQCdU--pNdX"
   },
   "source": [
    "# An introductional notebook to HEP analysis in C++\n",
    "\n",
    "<p>In this notebook you can find an easy set of commands that show some basic computing techniques commonly used in High Energy Physics (HEP) analyzes.</p>\n",
    "\n",
    "<p>It also shows how to create an histogram, fill it and draw it. Moreover it is an introduction to [ROOT](https://root.cern.ch/) too. The final output is a plot with the number of leptons.</p>\n",
    "\n",
    "Based on ATLAS opendata notebooks (http://opendata.atlas.cern/release/2020/documentation/notebooks/intro.html)\n"
   ]
  },
  {
   "cell_type": "markdown",
   "metadata": {
    "id": "XWeEpyD7pNdY"
   },
   "source": [
    "The library used is [ROOT](https://root.cern.ch/), a scientific data analysis software framework that provides a large set of functionalities needed to deal with big data processing, statistical analysis, visualisation and storage."
   ]
  },
  {
   "cell_type": "markdown",
   "metadata": {
    "id": "ZwQRbqAepNdZ"
   },
   "source": [
    "<p>At first we have to include several helpers that will support our analysis:</p>"
   ]
  },
  {
   "cell_type": "code",
   "execution_count": null,
   "metadata": {
    "id": "3zPjx5oupNda"
   },
   "outputs": [],
   "source": [
    "#include <iostream>\n",
    "#include <string>\n",
    "#include <stdio.h>"
   ]
  },
  {
   "cell_type": "markdown",
   "metadata": {
    "id": "eqMJ6_A_pNde"
   },
   "source": [
    "Next we have to open the data that we want to analyze. As described above the data is stored in a _*.root_ file. This is a root file containing tracks and calorimeter clusters"
   ]
  },
  {
   "cell_type": "code",
   "execution_count": null,
   "metadata": {
    "id": "508nryKPpNde"
   },
   "outputs": [],
   "source": [
    "TFile *file = TFile::Open(\"Data_8TeV.root\"); "
   ]
  },
  {
   "cell_type": "markdown",
   "metadata": {
    "id": "siYYudM-pNdh"
   },
   "source": [
    "The next step is to define a tree named _tree_ to get the data out of the _*.root_ file. The tree in this root file is called \"mini\". We will then print the contents of the tree to find the names of the variables. "
   ]
  },
  {
   "cell_type": "code",
   "execution_count": null,
   "metadata": {
    "id": "wmi7PSzupNdi",
    "outputId": "0dea48dc-e5fa-4632-a789-d9d47864d50e"
   },
   "outputs": [],
   "source": [
    "TTree *tree = (TTree*) file->Get(\"mini\");\n",
    "tree->Print()"
   ]
  },
  {
   "cell_type": "markdown",
   "metadata": {
    "id": "r6cPZz7qpNdm"
   },
   "source": [
    "Activate variables "
   ]
  },
  {
   "cell_type": "code",
   "execution_count": null,
   "metadata": {
    "id": "pR3HLEtkpNdn"
   },
   "outputs": [],
   "source": [
    "Bool_t e_trig;\n",
    "Bool_t mu_trig;\n",
    "Bool_t good_vtx;\n",
    "UInt_t lep_n;\n",
    "UInt_t jet_n;\n",
    "Float_t MET;\n",
    "Float_t MET_phi;\n",
    "\n",
    "Float_t lep_pt[10];  \n",
    "Float_t lep_eta[10];  \n",
    "Float_t lep_phi[10];  \n",
    "Float_t lep_E[10];  \n",
    "Int_t lep_type[10];  \n",
    "Float_t lep_ptcone30[10];\n",
    "Float_t lep_etcone20[10];\n",
    "\n",
    "Float_t jet_pt[10]; \n",
    "Float_t jet_eta[10];\n",
    "Float_t jet_jvf[10];\n",
    "Float_t jet_mv1[10];\n",
    "\n",
    "float evtw = -1;\n",
    "\n",
    "tree->SetBranchAddress(\"trigE\", &e_trig);\n",
    "tree->SetBranchAddress(\"trigM\", &mu_trig);\n",
    "tree->SetBranchAddress(\"hasGoodVertex\", &good_vtx);\n",
    "tree->SetBranchAddress(\"lep_n\", &lep_n);\n",
    "tree->SetBranchAddress(\"jet_n\", &jet_n);\n",
    "tree->SetBranchAddress(\"met_et\", &MET);\n",
    "tree->SetBranchAddress(\"met_phi\", &MET_phi);\n",
    "\n",
    "tree->SetBranchAddress(\"lep_pt\", &lep_pt);\n",
    "tree->SetBranchAddress(\"lep_eta\", &lep_eta);\n",
    "tree->SetBranchAddress(\"lep_phi\", &lep_phi);\n",
    "tree->SetBranchAddress(\"lep_E\", &lep_E);\n",
    "tree->SetBranchAddress(\"lep_type\", &lep_type);\n",
    "tree->SetBranchAddress(\"lep_ptcone30\", &lep_ptcone30);\n",
    "tree->SetBranchAddress(\"lep_etcone20\", &lep_etcone20);\n",
    "\n",
    "tree->SetBranchAddress(\"jet_pt\", &jet_pt);\n",
    "tree->SetBranchAddress(\"jet_eta\", &jet_eta);\n",
    "tree->SetBranchAddress(\"jet_jvf\", &jet_jvf);\n",
    "tree->SetBranchAddress(\"jet_MV1\", &jet_mv1);\n",
    "\n"
   ]
  },
  {
   "cell_type": "markdown",
   "metadata": {
    "id": "d94MsNTNpNdp"
   },
   "source": [
    "Create Canvas"
   ]
  },
  {
   "cell_type": "code",
   "execution_count": null,
   "metadata": {
    "id": "KuidSbLkpNdq"
   },
   "outputs": [],
   "source": [
    "TCanvas *canvas = new TCanvas(\"Canvas\",\"\",800,600);"
   ]
  },
  {
   "cell_type": "markdown",
   "metadata": {
    "id": "Ti6OSer0pNds"
   },
   "source": [
    "Create histograms: Leading jet pT and all jets pT "
   ]
  },
  {
   "cell_type": "code",
   "execution_count": null,
   "metadata": {
    "id": "H5vRcSZEpNdt",
    "outputId": "fb99a74b-b58a-4115-9dfa-49fc58a73dd8"
   },
   "outputs": [],
   "source": [
    "TH1F *cutflow = new TH1F(\"Cutflow\",\"Cutflow; Cut; Events\",10,0,10);\n",
    "\n",
    "TH1F *hist_njets = new TH1F(\"Number of jets\",\"n-jets; Jet multiplicity; Events\",10,0,10);\n",
    "// Leptons\n",
    "TH1F *hist_lep_pt = new TH1F(\"Lepton pT\",\"Lepton pT; pT (GeV); Events\",20,1000,100000);\n",
    "TH1F *hist_lep_ptcone30 = new TH1F(\"Lepton ptcone30\",\"Lepton ptcone30; ptcone30; Events\",10,0,1);\n",
    "TH1F *hist_lep_etcone20 = new TH1F(\"Lepton etcone20\",\"Lepton etcone20; etcone20; Events\",10,-1,1);\n",
    "TH1F *hist_lep_eta = new TH1F(\"Lepton eta\",\"Lepton eta; eta (GeV); Events\",10,-4,4);\n",
    "// Jets\n",
    "TH1F *hist_jets_pt = new TH1F(\"Jets pT\",\"Jets pT; pT (GeV); Events\",10,0,100000);\n",
    "TH1F *hist_jets_eta = new TH1F(\"Jets eta\",\"Jets eta; eta (rad); Events\",10,-4,4);\n",
    "TH1F *hist_jets_JVF = new TH1F(\"Jets JVF\",\"Jets JVF; JVF; Events\",25,0,1);\n",
    "TH1F *hist_jets_MV1 = new TH1F(\"Jets MV1 output\",\"Jets MV1 output; MV1 output; Events\",10,0,1);\n",
    "// B-Jets\n",
    "TH1F *hist_n_bjets = new TH1F(\"Number b-Jets \",\"Number of b-Jets MV1 output; Number of b-Jets; Events\",20,0,10);\n",
    "// MET\n",
    "TH1F *hist_MET = new TH1F(\"MET \",\"MET; MET; Events\",200,0,200000);\n",
    "// mT(W)\n",
    "TH1F *hist_MTW = new TH1F(\"mT(w) \",\"mT(W); mT(w); Events\",200,0,200000);"
   ]
  },
  {
   "cell_type": "markdown",
   "metadata": {},
   "source": [
    "# Graficos"
   ]
  },
  {
   "cell_type": "markdown",
   "metadata": {
    "id": "Q3JqvFggpNdw"
   },
   "source": [
    "Loop and fill histograms"
   ]
  },
  {
   "cell_type": "code",
   "execution_count": null,
   "metadata": {
    "id": "NrUhlvDepNdx",
    "outputId": "130a7e64-128a-427f-e560-64757a55cf51"
   },
   "outputs": [],
   "source": [
    "int nentries, nbytes, i;\n",
    "nentries = (Int_t)tree->GetEntries();\n",
    "\n",
    "int cut1 = 0;\n",
    "int cut2 = 0;\n",
    "int cut3 = 0;\n",
    "int cut4 = 0;\n",
    "int cut5 = 0;\n",
    "int cut6 = 0;\n",
    "int cut7 = 0;\n",
    "int cut8 = 0;\n",
    "\n",
    "\n",
    "for (i = 0; i < nentries; i++)\n",
    "{\n",
    "    nbytes = tree->GetEntry(i);   \n",
    "\n",
    "    //First cut: Good vertex\n",
    "    if(!good_vtx) continue;\n",
    "    cut1++;\n",
    "    cutflow->Fill(1);\n",
    "\n",
    "    //Second cut: Trigger\n",
    "    if(!e_trig && !mu_trig) continue;\n",
    "    cut2++;\n",
    "    cutflow->Fill(2);\n",
    "        \n",
    "    // Preselection of good leptons                                                                                \n",
    "    int n_mu=0;\n",
    "    int n_el=0;\n",
    "    int n_lep=0;\n",
    "    int good_lep=0;\n",
    "    // Histogramas Leptones\n",
    "  \n",
    "    //Loop over leptons\n",
    "    for(unsigned int i=0; i<lep_n; i++){\n",
    "        hist_lep_pt->Fill(lep_pt[i]);\n",
    "        hist_lep_ptcone30->Fill(lep_ptcone30[i]/lep_pt[i]);\n",
    "        hist_lep_etcone20->Fill(lep_etcone20[i]/lep_pt[i]);\n",
    "        hist_lep_eta->Fill(lep_eta[i]);\n",
    "        if( lep_pt[i] < 25000.) continue; \n",
    "        if( lep_ptcone30[i]/lep_pt[i] > 0.15 ) continue; \n",
    "        if( lep_etcone20[i]/lep_pt[i] > 0.15 ) continue;  \n",
    "        if( lep_type [i]==13 && TMath::Abs(lep_eta[i]) < 2.5 ){\n",
    "            n_mu++;\n",
    "            good_lep=i;}\n",
    "        /*\n",
    "        To complete: Add electrons and extract the index for the good lepton\n",
    "        */\n",
    "        if( lep_type [i]==11 && TMath::Abs(lep_eta[i]) < 2.47) { \n",
    "            if(TMath::Abs(lep_eta[i]) < 1.37 || TMath::Abs(lep_eta[i]) > 1.52 ){\n",
    "                n_el++;\n",
    "                good_lep=i;}}\n",
    "        \n",
    "    }\n",
    "    n_lep = n_mu + n_el;\n",
    "    \n",
    "     //Select events with only 1 good lepton and fill the cutflow histogram \n",
    "    //Example:\n",
    "    //Third cut (one good lepton):\n",
    "    if(n_lep!=1) continue;\n",
    "    cutflow->Fill(3); \n",
    "    cut3++;\n",
    "  \n",
    "    \n",
    "    int n_jets=0;\n",
    "    int n_bjets=0;\n",
    "    \n",
    "    //Number of jets distribution\n",
    "    hist_njets->Fill(jet_n);//,evtw);\n",
    "\n",
    "    //Fourth cut: At least 4 jets\n",
    "    if(jet_n<4) continue; \n",
    "    cutflow->Fill(4); \n",
    "    cut4++;\n",
    "\n",
    "    for(unsigned int j=0; j<jet_n; j++){\n",
    "        // Histograms\n",
    "        hist_jets_pt->Fill(jet_pt[j]);\n",
    "        hist_jets_eta->Fill(jet_eta[j]);\n",
    "        hist_jets_JVF->Fill(jet_jvf[j]);\n",
    "        hist_jets_MV1->Fill(jet_mv1[j]);\n",
    "        // To complete: apply jet cuts to find the good jets\n",
    "        if(jet_pt[j] < 25000.) continue;\n",
    "        //Eta cut\n",
    "        if(TMath::Abs(jet_eta[j]) > 2.5) continue;\n",
    "        // JVF cleaning         \n",
    "        if(jet_pt[j] < 50000 && TMath::Abs(jet_eta[j])<2.4 && jet_jvf[j]<0.5)continue;\n",
    "        n_jets++;\n",
    "        // cut on 0.7892 MV1 and count the number of b-jets\n",
    "        if(TMath::Abs(jet_mv1[j]) < 0.7892) continue;\n",
    "        n_bjets++;\n",
    "        \n",
    "        }\n",
    "    \n",
    "    //Fifth cut: At least 4 good jets\n",
    "    if(n_jets<4) continue; \n",
    "    cutflow->Fill(5); \n",
    "    cut5++;\n",
    "    \n",
    "    hist_n_bjets->Fill(n_bjets);\n",
    "    //Sixth cut: at least one b-jet\n",
    "    if(n_bjets<2) continue;\n",
    "    cutflow->Fill(6);\n",
    "    cut6++;\n",
    "    \n",
    "    hist_MET->Fill(MET);\n",
    "    //Seventh cut: MET > 30 GeV\n",
    "    if(MET<30000.) continue;\n",
    "    cutflow->Fill(7);\n",
    "    cut7++;\n",
    "    \n",
    "    // TLorentzVector definitions                                                               \n",
    "    TLorentzVector Lepton  = TLorentzVector();\n",
    "    TLorentzVector  MeT  = TLorentzVector();\n",
    "\n",
    "    //To complete: Lorentz vectors for the lepton and MET. Use SetPtEtaPhiE().\n",
    "    Lepton.SetPtEtaPhiE(lep_pt[good_lep],lep_eta[good_lep],lep_phi[good_lep],lep_E[good_lep]);\n",
    "    MeT.SetPtEtaPhiE(MET,0,MET_phi,MET);\n",
    "    //Calculation of the mTW using TLorentz vectors    \n",
    "    float mTW = sqrt(2*Lepton.Pt()*MeT.Et()*(1-cos(Lepton.DeltaPhi(MeT))));\n",
    "\n",
    "    hist_MTW->Fill(mTW);\n",
    "    //Eight cut: mTW > 30 GeV\n",
    "    if(mTW>30000){\n",
    "        cutflow->Fill(8);\n",
    "        cut8++;\n",
    "    }\n",
    "}\n",
    "\n",
    "std::cout << \"Done!\" << std::endl;\n",
    "std::cout << \"All events:\" << nentries << std::endl;\n",
    "std::cout << \"Cut1:\" << cut1 << std::endl;\n",
    "std::cout << \"Cut2:\" << cut2 << std::endl;\n",
    "std::cout << \"Cut3:\" << cut3 << std::endl;\n",
    "std::cout << \"Cut4:\" << cut4 << std::endl;\n",
    "std::cout << \"Cut5:\" << cut5 << std::endl;\n",
    "std::cout << \"Cut6:\" << cut6 << std::endl;\n",
    "std::cout << \"Cut7:\" << cut7 << std::endl;\n",
    "std::cout << \"Cut8:\" << cut8 << std::endl;\n",
    "\n"
   ]
  },
  {
   "cell_type": "markdown",
   "metadata": {
    "id": "8UhmiWlYpNdz"
   },
   "source": [
    "<p>Draw</p>"
   ]
  },
  {
   "cell_type": "code",
   "execution_count": null,
   "metadata": {
    "id": "1NbNj6EWpNd0",
    "outputId": "7f4f5d23-84ed-415f-8e80-75f0c38b1a25"
   },
   "outputs": [],
   "source": [
    "cutflow->Draw(\"\");\n",
    "canvas->SetLogy();\n",
    "canvas->Draw();"
   ]
  },
  {
   "cell_type": "code",
   "execution_count": null,
   "metadata": {
    "id": "qs8NkCQFpNd2",
    "outputId": "80896325-e4fe-48b3-b7c8-238fbc960bdc"
   },
   "outputs": [],
   "source": [
    "hist_njets->Draw();\n",
    "canvas->SetLogy();\n",
    "canvas->Draw();"
   ]
  },
  {
   "cell_type": "markdown",
   "metadata": {
    "id": "0mjMOUsqpNd5"
   },
   "source": [
    "# Lepton"
   ]
  },
  {
   "cell_type": "code",
   "execution_count": null,
   "metadata": {},
   "outputs": [],
   "source": [
    "hist_lep_pt->Draw();\n",
    "canvas->SetLogy();\n",
    "canvas->Draw();"
   ]
  },
  {
   "cell_type": "code",
   "execution_count": null,
   "metadata": {},
   "outputs": [],
   "source": [
    "hist_lep_ptcone30->Draw();\n",
    "canvas->SetLogy();\n",
    "canvas->Draw();"
   ]
  },
  {
   "cell_type": "code",
   "execution_count": null,
   "metadata": {},
   "outputs": [],
   "source": [
    "hist_lep_etcone20->Draw();\n",
    "canvas->SetLogy();\n",
    "canvas->Draw();"
   ]
  },
  {
   "cell_type": "code",
   "execution_count": null,
   "metadata": {},
   "outputs": [],
   "source": [
    "hist_lep_eta->Draw();\n",
    "canvas->Draw();"
   ]
  },
  {
   "cell_type": "code",
   "execution_count": null,
   "metadata": {},
   "outputs": [],
   "source": [
    "hist_jets_pt->Draw();\n",
    "canvas->SetLogy();\n",
    "canvas->Draw();"
   ]
  },
  {
   "cell_type": "code",
   "execution_count": null,
   "metadata": {},
   "outputs": [],
   "source": [
    "hist_jets_eta->Draw();\n",
    "canvas->Draw();"
   ]
  },
  {
   "cell_type": "code",
   "execution_count": null,
   "metadata": {},
   "outputs": [],
   "source": [
    "hist_jets_JVF->Draw();\n",
    "canvas->Draw();"
   ]
  },
  {
   "cell_type": "code",
   "execution_count": null,
   "metadata": {},
   "outputs": [],
   "source": [
    "hist_jets_MV1->Draw();\n",
    "canvas->Draw();"
   ]
  },
  {
   "cell_type": "code",
   "execution_count": null,
   "metadata": {},
   "outputs": [],
   "source": [
    "hist_n_bjets->Draw();\n",
    "canvas->Draw();"
   ]
  },
  {
   "cell_type": "code",
   "execution_count": null,
   "metadata": {
    "scrolled": false
   },
   "outputs": [],
   "source": [
    "hist_MET->Draw();\n",
    "canvas->Draw();"
   ]
  },
  {
   "cell_type": "code",
   "execution_count": null,
   "metadata": {},
   "outputs": [],
   "source": [
    "hist_MTW->Draw();\n",
    "canvas->Draw();"
   ]
  },
  {
   "cell_type": "code",
   "execution_count": null,
   "metadata": {},
   "outputs": [],
   "source": []
  }
 ],
 "metadata": {
  "colab": {
   "name": "TTbarSel_8TeV.ipynb",
   "provenance": []
  },
  "kernelspec": {
   "display_name": "ROOT C++",
   "language": "c++",
   "name": "root"
  },
  "language_info": {
   "codemirror_mode": "text/x-c++src",
   "file_extension": ".C",
   "mimetype": " text/x-c++src",
   "name": "c++"
  }
 },
 "nbformat": 4,
 "nbformat_minor": 1
}
